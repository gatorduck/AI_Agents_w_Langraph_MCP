{
 "cells": [
  {
   "cell_type": "markdown",
   "id": "f547534c",
   "metadata": {},
   "source": [
    "Lets start with a simple crawl and work our way up to a complex agent.\n",
    "\n",
    "Lets start a project that begins with a simple llm use case that builds on itself and concludes with an AI agent that includes tools, RAG, and fine-tuning with custom decoder transformer."
   ]
  },
  {
   "cell_type": "code",
   "execution_count": 1,
   "id": "ae54e229",
   "metadata": {},
   "outputs": [],
   "source": [
    "import os\n",
    "from langchain.chat_models import init_chat_model\n",
    "from langgraph.graph import StateGraph, START\n",
    "from langgraph.prebuilt import tools_condition, ToolNode\n",
    "from typing_extensions import TypedDict, Literal\n",
    "from langchain_tavily import TavilySearch\n",
    "from langgraph.graph import MessagesState\n",
    "from langchain_core.messages import HumanMessage, SystemMessage, RemoveMessage\n",
    "from IPython.display import Image, display\n",
    "from langgraph.checkpoint.memory import MemorySaver\n",
    "from langgraph.types import Command"
   ]
  },
  {
   "cell_type": "markdown",
   "id": "c357c433",
   "metadata": {},
   "source": [
    "# LLM\n",
    "\n",
    "The main workhorse of our REACT agent. This is the brains of our operations. However it is only as good as the data it has been pretrained on."
   ]
  },
  {
   "cell_type": "code",
   "execution_count": 2,
   "id": "97acdb53",
   "metadata": {},
   "outputs": [
    {
     "data": {
      "text/plain": [
       "'Hello! How can I assist you today?'"
      ]
     },
     "execution_count": 2,
     "metadata": {},
     "output_type": "execute_result"
    }
   ],
   "source": [
    "os.environ.get(\"OPENAI_API_KEY\")\n",
    "os.environ.get(\"TAVILY_API_KEY\") # API search engine tool\n",
    "\n",
    "llm = init_chat_model(\n",
    "    model = \"gpt-4o-mini\",\n",
    "    model_provider=\"openai\",\n",
    "    temperature=0,\n",
    "    max_tokens = 50\n",
    ")\n",
    "\n",
    "message = [HumanMessage(content=(f\"hello\"))]\n",
    "\n",
    "llm.invoke(message).content"
   ]
  },
  {
   "cell_type": "markdown",
   "id": "37113d32",
   "metadata": {},
   "source": [
    "One quick way to demonstrate this is by asking what the weather is."
   ]
  },
  {
   "cell_type": "code",
   "execution_count": 3,
   "id": "46b8ad23",
   "metadata": {},
   "outputs": [
    {
     "data": {
      "text/plain": [
       "\"I don't have real-time data access to provide current weather information. To find the latest weather in New York, I recommend checking a reliable weather website or app.\""
      ]
     },
     "execution_count": 3,
     "metadata": {},
     "output_type": "execute_result"
    }
   ],
   "source": [
    "llm.invoke(\"what is the weather in New York?\").content"
   ]
  },
  {
   "cell_type": "markdown",
   "id": "2002f129",
   "metadata": {},
   "source": [
    "# Tools\n",
    "\n",
    "The fun part is giving the llm the ability to use tools. This is helpful for very domain specific task such as using proprietary data or applications. Lets answer our weather question and maybe a simple math problem using tools."
   ]
  },
  {
   "cell_type": "code",
   "execution_count": 4,
   "id": "0d91287b",
   "metadata": {},
   "outputs": [],
   "source": [
    "# tool used to search the web - useful for getting the latest information or data that the model may not have been trained\n",
    "web_search_tool = TavilySearch(max_results=2)"
   ]
  },
  {
   "cell_type": "code",
   "execution_count": 5,
   "id": "dc7b37dd",
   "metadata": {},
   "outputs": [],
   "source": [
    "# second tool is based on our own simple math function used to return the remainder of a division operation\n",
    "\n",
    "def remainder(a: int, b: int) -> int:\n",
    "    \"\"\"returns the remainder of  a divided by b.\n",
    "\n",
    "    Args:\n",
    "        a: first int\n",
    "        b: second int\n",
    "    \"\"\"\n",
    "    return a % b"
   ]
  },
  {
   "cell_type": "markdown",
   "id": "f5506774",
   "metadata": {},
   "source": [
    "Lets bind these tools to our llm."
   ]
  },
  {
   "cell_type": "code",
   "execution_count": 6,
   "id": "81e7a78c",
   "metadata": {},
   "outputs": [],
   "source": [
    "tools = [web_search_tool, remainder]\n",
    "\n",
    "llm_with_tools = llm.bind_tools(tools)"
   ]
  },
  {
   "cell_type": "markdown",
   "id": "f8e76ce5",
   "metadata": {},
   "source": [
    "# Langraph\n",
    "\n",
    "Our goal is to create a chain of events using Langraph as our framework. Each of the steps in our chain is represented by a node. So we will wrap our llm as a function."
   ]
  },
  {
   "cell_type": "code",
   "execution_count": 7,
   "id": "d6273d92",
   "metadata": {},
   "outputs": [],
   "source": [
    "# System message | prompt engineering - assigning a role to the llm\n",
    "sys_msg = SystemMessage(content=\"You are a helpful assistant that can use tools to answer questions. You can search the web and perform simple math operations. Use the tools when necessary.\")\n",
    "\n",
    "# Node - REACT agent\n",
    "def assistant(state: MessagesState):\n",
    "   return {\"messages\": [llm_with_tools.invoke([sys_msg] + state[\"messages\"])]}"
   ]
  },
  {
   "cell_type": "markdown",
   "id": "1e5ca8bd",
   "metadata": {},
   "source": [
    "An important note about MessageState. As you move from node to node our state gets truncated, or think of it as our new data returned over-rides existing data. This data is traditionally a strict dictionary that stores messages in a dictionary. Such as the one below. To instead append data we use MessageState with a built-in default key of message and also a function called add_message, also referred to as a reducer, to append messages as we move from node to node. Note these messages are usually our conversation between AI and human. This state is also referred to as a schema, because it is a strict dictionary used to enforce data types for our messages as we move form node to node.\n",
    "\n",
    "Other tools you can test and use include Typedict, python data classes and Pydantic."
   ]
  },
  {
   "cell_type": "code",
   "execution_count": 8,
   "id": "b480927e",
   "metadata": {},
   "outputs": [],
   "source": [
    "\n",
    "state = {\"graph_state\": \"\"}\n",
    "\n",
    "# example below is 'similar'\n",
    "\n",
    "class State(TypedDict): # dictionary object with specific keys and types\n",
    "    graph_state: str"
   ]
  },
  {
   "cell_type": "markdown",
   "id": "fa7255f3",
   "metadata": {},
   "source": [
    "I want to summarize my previous conversations first before using my agent. So lets use as an alternative to  conditional edge, and use commands to update state and act as a conditional edge."
   ]
  },
  {
   "cell_type": "code",
   "execution_count": 9,
   "id": "150d03a9",
   "metadata": {},
   "outputs": [],
   "source": [
    "class State(MessagesState):\n",
    "    summary: str\n",
    "\n",
    "# Define the logic to call the model\n",
    "def summarize_or_agent_router(state: State) -> Command[Literal[\"summarize_conversation\", \"agent_conversation\"]]: \n",
    "    \n",
    "    # Get summary if it exists\n",
    "    summary = state.get(\"summary\", \"\")\n",
    "    messages = state[\"messages\"]\n",
    "\n",
    "    # If there is summary, then we add it\n",
    "    if summary:\n",
    "        \n",
    "        # Add summary to system message\n",
    "        system_message = f\"Summary of conversation earlier: {summary}\"\n",
    "\n",
    "        # Append summary to any newer messages\n",
    "        messages = [SystemMessage(content=system_message)] + state[\"messages\"]\n",
    "\n",
    "    # Check if we need to summarize (regardless of whether summary exists)\n",
    "    if len(messages) > 3:\n",
    "        goto = \"summarize_conversation\"\n",
    "    else:\n",
    "        goto = \"agent_conversation\"\n",
    "\n",
    "    return Command(\n",
    "        # this is the state update\n",
    "        update={\"messages\": messages},\n",
    "        # this is a replacement for an edge\n",
    "        goto=goto,\n",
    "    )"
   ]
  },
  {
   "cell_type": "markdown",
   "id": "e7776b58",
   "metadata": {},
   "source": [
    "node used to summarize our conversation"
   ]
  },
  {
   "cell_type": "code",
   "execution_count": 10,
   "id": "76c354c2",
   "metadata": {},
   "outputs": [],
   "source": [
    "def summarize_conversation(state: State):\n",
    "    \n",
    "    # First, we get any existing summary\n",
    "    summary = state.get(\"summary\", \"\")\n",
    "\n",
    "    # Create our summarization prompt \n",
    "    if summary:\n",
    "        \n",
    "        # A summary already exists\n",
    "        summary_message = (\n",
    "            f\"This is summary of the conversation to date: {summary}\\n\\n\"\n",
    "            \"Extend the summary by taking into account the new messages above:\"\n",
    "        )\n",
    "        \n",
    "    else:\n",
    "        summary_message = \"Create a summary of the conversation above:\"\n",
    "\n",
    "    # Add prompt to our history\n",
    "    messages = state[\"messages\"] + [HumanMessage(content=summary_message)]\n",
    "    response = llm.invoke(messages)\n",
    "    \n",
    "    # Delete all but the 2 most recent messages\n",
    "    delete_messages = [RemoveMessage(id=m.id) for m in state[\"messages\"][:-2]]\n",
    "    return {\"summary\": response.content, \"messages\": delete_messages}"
   ]
  },
  {
   "cell_type": "markdown",
   "id": "d5c0ebaa",
   "metadata": {},
   "source": [
    "Lets create our graph using Stategraph, edges and nodes are incorporated to our new object."
   ]
  },
  {
   "cell_type": "code",
   "execution_count": 11,
   "id": "4486a0cb",
   "metadata": {},
   "outputs": [],
   "source": [
    "builder = StateGraph(MessagesState)"
   ]
  },
  {
   "cell_type": "markdown",
   "id": "f9ab02e3",
   "metadata": {},
   "source": [
    "Define the nodes. "
   ]
  },
  {
   "cell_type": "code",
   "execution_count": 12,
   "id": "8a9afa40",
   "metadata": {},
   "outputs": [
    {
     "data": {
      "text/plain": [
       "<langgraph.graph.state.StateGraph at 0x22b892b0040>"
      ]
     },
     "execution_count": 12,
     "metadata": {},
     "output_type": "execute_result"
    }
   ],
   "source": [
    "# Add nodes to the workflow\n",
    "builder.add_node(\"command_router\", summarize_or_agent_router)\n",
    "builder.add_node(summarize_conversation)\n",
    "builder.add_node(\"agent_conversation\", assistant)\n",
    "builder.add_node(\"tools\", ToolNode(tools))"
   ]
  },
  {
   "cell_type": "markdown",
   "id": "6f3a8ea4",
   "metadata": {},
   "source": [
    "Lets add edges to connect these nodes."
   ]
  },
  {
   "cell_type": "code",
   "execution_count": 13,
   "id": "7e0785f5",
   "metadata": {},
   "outputs": [
    {
     "data": {
      "text/plain": [
       "<langgraph.graph.state.StateGraph at 0x22b892b0040>"
      ]
     },
     "execution_count": 13,
     "metadata": {},
     "output_type": "execute_result"
    }
   ],
   "source": [
    "# Set the entrypoint as conversation\n",
    "builder.add_edge(START, \"command_router\")\n",
    "builder.add_edge(\"summarize_conversation\", \"agent_conversation\")\n",
    "builder.add_conditional_edges(\"agent_conversation\",  tools_condition)\n",
    "builder.add_edge(\"tools\", \"agent_conversation\") # this edge connects the tools node back to the assistant node to return the results of the tool invocation in natural language format"
   ]
  },
  {
   "cell_type": "markdown",
   "id": "b9cf6bd5",
   "metadata": {},
   "source": [
    "Before we invoke our agent, lets give it some memory so it retains messages across graph executions."
   ]
  },
  {
   "cell_type": "code",
   "execution_count": null,
   "id": "0fabd986",
   "metadata": {},
   "outputs": [
    {
     "data": {
      "image/png": "[encoded data removed]",
      "text/plain": [
       "<IPython.core.display.Image object>"
      ]
     },
     "metadata": {},
     "output_type": "display_data"
    }
   ],
   "source": [
    "memory = MemorySaver()\n",
    "react_graph_memory = builder.compile(checkpointer=memory)\n",
    "\n",
    "# Show\n",
    "display(Image(react_graph_memory.get_graph(xray=True).draw_mermaid_png()))"
   ]
  },
  {
   "cell_type": "markdown",
   "id": "c6759846",
   "metadata": {},
   "source": [
    "Now lets invoke our agent with a simple question and see how it works."
   ]
  },
  {
   "cell_type": "code",
   "execution_count": null,
   "id": "c118b28d",
   "metadata": {},
   "outputs": [
    {
     "name": "stdout",
     "output_type": "stream",
     "text": [
      "================================\u001b[1m Human Message \u001b[0m=================================\n",
      "\n",
      "what's my name?\n",
      "================================\u001b[1m System Message \u001b[0m================================\n",
      "\n",
      "Summary of conversation earlier: Summary of the conversation to date: Martin introduced himself and asked two questions: the remainder of 10 divided by 3, which was calculated to be 1, and the current weather in Dallas, TX, for which the information could not be provided\n",
      "==================================\u001b[1m Ai Message \u001b[0m==================================\n",
      "\n",
      "Your name is Martin. How can I assist you today?\n"
     ]
    }
   ],
   "source": [
    "# Specify a thread, is it is used to keep track of the conversation history\n",
    "config = {\"configurable\": {\"thread_id\": \"1\"}}\n",
    "react_graph_memory.invoke({\"messages\": \"hi, my name is martin\"}, config)\n",
    "react_graph_memory.invoke({\"messages\": \"What is the remainder of 10 divided by 3 and what is the weather in Dallas, TX?\"}, config)\n",
    "react_graph_memory.invoke({\"messages\": \"I have a dog named Teddy\"}, config)\n",
    "final_response = react_graph_memory.invoke({\"messages\": \"what's my name?\"}, config)\n",
    "\n",
    "\n",
    "for m in final_response['messages']:\n",
    "    m.pretty_print()\n"
   ]
  },
  {
   "cell_type": "markdown",
   "id": "01cb6fc4",
   "metadata": {},
   "source": [
    "Wrap entire script below."
   ]
  },
  {
   "cell_type": "code",
   "execution_count": null,
   "id": "7c80e8b8",
   "metadata": {},
   "outputs": [],
   "source": [
    "os.environ.get(\"OPENAI_API_KEY\")\n",
    "os.environ.get(\"TAVILY_API_KEY\") # API search engine tool\n",
    "\n",
    "# Initialize the LLM\n",
    "\n",
    "llm = init_chat_model(\n",
    "    model = \"gpt-4o-mini\",\n",
    "    model_provider=\"openai\",\n",
    "    temperature=0,\n",
    "    max_tokens = 50\n",
    ")\n",
    "\n",
    "# tool used to search the web - useful for getting the latest information or data that the model may not have been trained\n",
    "web_search_tool = TavilySearch(max_results=2)\n",
    "\n",
    "# second tool is based on our own simple math function used to return the remainder of a division operation\n",
    "def remainder(a: int, b: int) -> int:\n",
    "    \"\"\"returns the remainder of  a divided by b.\n",
    "\n",
    "    Args:\n",
    "        a: first int\n",
    "        b: second int\n",
    "    \"\"\"\n",
    "    return a % b\n",
    "\n",
    "\n",
    "# Define the tools to be used by the LLM\n",
    "tools = [web_search_tool, remainder]\n",
    "\n",
    "llm_with_tools = llm.bind_tools(tools)\n",
    "\n",
    "# System message | prompt engineering - assigning a role to the llm\n",
    "sys_msg = SystemMessage(content=\"You are a helpful assistant that can use tools to answer questions. You can search the web and perform simple math operations. Use the tools when necessary.\")\n",
    "\n",
    "# Node - REACT agent\n",
    "def assistant(state: MessagesState):\n",
    "   return {\"messages\": [llm_with_tools.invoke([sys_msg] + state[\"messages\"])]}\n",
    "\n",
    "# create our graph state\n",
    "builder = StateGraph(MessagesState)\n",
    "\n",
    "# Define nodes: these do the work\n",
    "builder.add_node(\"assistant\", assistant)\n",
    "builder.add_node(\"tools\", ToolNode(tools))\n",
    "\n",
    "# connect our nodes\n",
    "builder.add_edge(START, \"assistant\")\n",
    "builder.add_conditional_edges(\"assistant\",  tools_condition)\n",
    "builder.add_edge(\"tools\", \"assistant\") # this edge connects the tools node back to the assistant node to return the results of the tool invocation in natural language format\n",
    "\n",
    "# give our graph memory\n",
    "memory = MemorySaver()\n",
    "react_graph_memory = builder.compile(checkpointer=memory)\n",
    "\n",
    "# Specify a thread, is it is used to keep track of the conversation history\n",
    "config = {\"configurable\": {\"thread_id\": \"1\"}}\n",
    "\n",
    "# Specify an input\n",
    "messages = [HumanMessage(content=\"What is the remainder of 10 divided by 3 and what is the weather in Dallas, TX?\")]\n",
    "\n",
    "# Run\n",
    "messages = react_graph_memory.invoke({\"messages\": messages},config)\n",
    "for m in messages['messages']:\n",
    "    m.pretty_print()"
   ]
  }
 ],
 "metadata": {
  "kernelspec": {
   "display_name": "Python 3",
   "language": "python",
   "name": "python3"
  },
  "language_info": {
   "codemirror_mode": {
    "name": "ipython",
    "version": 3
   },
   "file_extension": ".py",
   "mimetype": "text/x-python",
   "name": "python",
   "nbconvert_exporter": "python",
   "pygments_lexer": "ipython3",
   "version": "3.10.5"
  }
 },
 "nbformat": 4,
 "nbformat_minor": 5
}
